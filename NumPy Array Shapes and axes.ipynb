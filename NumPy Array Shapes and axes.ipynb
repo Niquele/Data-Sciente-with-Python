{
 "cells": [
  {
   "cell_type": "code",
   "execution_count": 1,
   "id": "92896f26",
   "metadata": {},
   "outputs": [],
   "source": [
    "import numpy as np"
   ]
  },
  {
   "cell_type": "code",
   "execution_count": 2,
   "id": "f5103026",
   "metadata": {},
   "outputs": [
    {
     "data": {
      "text/plain": [
       "array(24)"
      ]
     },
     "execution_count": 2,
     "metadata": {},
     "output_type": "execute_result"
    }
   ],
   "source": [
    "np.array(24)"
   ]
  },
  {
   "cell_type": "code",
   "execution_count": 3,
   "id": "c77feafe",
   "metadata": {},
   "outputs": [
    {
     "data": {
      "text/plain": [
       "array([1, 2, 3, 4])"
      ]
     },
     "execution_count": 3,
     "metadata": {},
     "output_type": "execute_result"
    }
   ],
   "source": [
    "np.array([1,2,3,4])"
   ]
  },
  {
   "cell_type": "code",
   "execution_count": 4,
   "id": "9cfc64d3",
   "metadata": {},
   "outputs": [
    {
     "data": {
      "text/plain": [
       "array([[1, 1, 1],\n",
       "       [1, 2, 1]])"
      ]
     },
     "execution_count": 4,
     "metadata": {},
     "output_type": "execute_result"
    }
   ],
   "source": [
    "#2d array\n",
    "np.array([[1,1,1],[1,2,1]])"
   ]
  },
  {
   "cell_type": "code",
   "execution_count": 6,
   "id": "13023778",
   "metadata": {
    "scrolled": false
   },
   "outputs": [
    {
     "data": {
      "text/plain": [
       "array([[[1, 1, 1],\n",
       "        [2, 2, 2]],\n",
       "\n",
       "       [[3, 3, 3],\n",
       "        [4, 4, 4]]])"
      ]
     },
     "execution_count": 6,
     "metadata": {},
     "output_type": "execute_result"
    }
   ],
   "source": [
    "#3d array\n",
    "np.array([[[1,1,1],[2,2,2]],[[3,3,3],[4,4,4]]])"
   ]
  },
  {
   "cell_type": "code",
   "execution_count": 7,
   "id": "a726bbe5",
   "metadata": {},
   "outputs": [],
   "source": [
    "numpy_array = np.array([[[1,1,1],[2,2,2]],[[3,3,3],[4,4,4]]])"
   ]
  },
  {
   "cell_type": "code",
   "execution_count": 9,
   "id": "bdb59457",
   "metadata": {},
   "outputs": [
    {
     "data": {
      "text/plain": [
       "(2, 2, 3)"
      ]
     },
     "execution_count": 9,
     "metadata": {},
     "output_type": "execute_result"
    }
   ],
   "source": [
    "numpy_array.shape"
   ]
  },
  {
   "cell_type": "code",
   "execution_count": 10,
   "id": "b487601f",
   "metadata": {},
   "outputs": [
    {
     "data": {
      "text/plain": [
       "3"
      ]
     },
     "execution_count": 10,
     "metadata": {},
     "output_type": "execute_result"
    }
   ],
   "source": [
    "#dimensions\n",
    "numpy_array.ndim"
   ]
  },
  {
   "cell_type": "markdown",
   "id": "d6b79f60",
   "metadata": {},
   "source": [
    "Criando uma array e convertendo"
   ]
  },
  {
   "cell_type": "code",
   "execution_count": 12,
   "id": "34c99fd3",
   "metadata": {},
   "outputs": [
    {
     "data": {
      "text/plain": [
       "array([1, 2, 3, 4, 5, 6, 7, 8, 9])"
      ]
     },
     "execution_count": 12,
     "metadata": {},
     "output_type": "execute_result"
    }
   ],
   "source": [
    "numpy_second_array = np.array([x for x in range (1,10)])\n",
    "numpy_second_array"
   ]
  },
  {
   "cell_type": "code",
   "execution_count": 13,
   "id": "ae230f90",
   "metadata": {},
   "outputs": [
    {
     "data": {
      "text/plain": [
       "array([[1, 2, 3],\n",
       "       [4, 5, 6],\n",
       "       [7, 8, 9]])"
      ]
     },
     "execution_count": 13,
     "metadata": {},
     "output_type": "execute_result"
    }
   ],
   "source": [
    "#reshape in 2d\n",
    "numpy_second_array.reshape(3,3)"
   ]
  },
  {
   "cell_type": "code",
   "execution_count": 15,
   "id": "84d69c13",
   "metadata": {},
   "outputs": [
    {
     "data": {
      "text/plain": [
       "array([ 1,  2,  3,  4,  5,  6,  7,  8,  9, 10, 11, 12])"
      ]
     },
     "execution_count": 15,
     "metadata": {},
     "output_type": "execute_result"
    }
   ],
   "source": [
    "#new array to reshape in 3d\n",
    "numpy_t_arr = np.array([x for x in range(1,13)])\n",
    "numpy_t_arr"
   ]
  },
  {
   "cell_type": "code",
   "execution_count": 16,
   "id": "22f31fdf",
   "metadata": {
    "scrolled": true
   },
   "outputs": [
    {
     "data": {
      "text/plain": [
       "array([[[ 1,  2,  3],\n",
       "        [ 4,  5,  6]],\n",
       "\n",
       "       [[ 7,  8,  9],\n",
       "        [10, 11, 12]]])"
      ]
     },
     "execution_count": 16,
     "metadata": {},
     "output_type": "execute_result"
    }
   ],
   "source": [
    "numpy_t_arr.reshape(2,2,3)"
   ]
  },
  {
   "cell_type": "code",
   "execution_count": 17,
   "id": "754ac272",
   "metadata": {},
   "outputs": [
    {
     "data": {
      "text/plain": [
       "array([[[ 1,  2],\n",
       "        [ 3,  4]],\n",
       "\n",
       "       [[ 5,  6],\n",
       "        [ 7,  8]],\n",
       "\n",
       "       [[ 9, 10],\n",
       "        [11, 12]]])"
      ]
     },
     "execution_count": 17,
     "metadata": {},
     "output_type": "execute_result"
    }
   ],
   "source": [
    "numpy_t_arr.reshape(3,2,2)"
   ]
  },
  {
   "cell_type": "code",
   "execution_count": 18,
   "id": "9a8a1912",
   "metadata": {
    "scrolled": true
   },
   "outputs": [
    {
     "data": {
      "text/plain": [
       "array([[[ 1,  2,  3],\n",
       "        [ 4,  5,  6]],\n",
       "\n",
       "       [[ 7,  8,  9],\n",
       "        [10, 11, 12]]])"
      ]
     },
     "execution_count": 18,
     "metadata": {},
     "output_type": "execute_result"
    }
   ],
   "source": [
    "#calc auto the third dimension \n",
    "numpy_t_arr.reshape(2,2,-1) #use -1 "
   ]
  },
  {
   "cell_type": "markdown",
   "id": "bbcebc64",
   "metadata": {},
   "source": [
    "3d Array to flat Array"
   ]
  },
  {
   "cell_type": "code",
   "execution_count": 20,
   "id": "02dda14d",
   "metadata": {},
   "outputs": [],
   "source": [
    "#Creating 3d array\n",
    "numpy_t_arr = numpy_t_arr.reshape(3,2,2)"
   ]
  },
  {
   "cell_type": "code",
   "execution_count": 21,
   "id": "aead6d7b",
   "metadata": {},
   "outputs": [
    {
     "data": {
      "text/plain": [
       "array([ 1,  2,  3,  4,  5,  6,  7,  8,  9, 10, 11, 12])"
      ]
     },
     "execution_count": 21,
     "metadata": {},
     "output_type": "execute_result"
    }
   ],
   "source": [
    "numpy_t_arr.reshape(-1) #use -1"
   ]
  }
 ],
 "metadata": {
  "kernelspec": {
   "display_name": "Python 3 (ipykernel)",
   "language": "python",
   "name": "python3"
  },
  "language_info": {
   "codemirror_mode": {
    "name": "ipython",
    "version": 3
   },
   "file_extension": ".py",
   "mimetype": "text/x-python",
   "name": "python",
   "nbconvert_exporter": "python",
   "pygments_lexer": "ipython3",
   "version": "3.9.12"
  }
 },
 "nbformat": 4,
 "nbformat_minor": 5
}

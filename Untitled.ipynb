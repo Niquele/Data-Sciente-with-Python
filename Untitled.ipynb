{
 "cells": [
  {
   "cell_type": "markdown",
   "id": "81dcf850",
   "metadata": {},
   "source": [
    "Data Wragling"
   ]
  },
  {
   "cell_type": "code",
   "execution_count": null,
   "id": "c41cda9d",
   "metadata": {},
   "outputs": [],
   "source": [
    "#Loading data to .csv file\n",
    "df.to_csv (\"C:\\Users\\nique\\OneDrive\\Documentos\\GitHub\\Data.csv\")"
   ]
  },
  {
   "cell_type": "code",
   "execution_count": null,
   "id": "c7a48d34",
   "metadata": {},
   "outputs": [],
   "source": [
    "#Loadind .xlsx\n",
    "df = pandas.read_excel(\"C:\\Users\\nique\\OneDrive\\Documentos\\GitHub\\Data.xlsx\")\n",
    "#Loading data to .xlsx file\n",
    "df.to_excel(\"C:\\Users\\nique\\OneDrive\\Documentos\\GitHub\\Data.xlsx\")"
   ]
  },
  {
   "cell_type": "markdown",
   "id": "263a7bab",
   "metadata": {},
   "source": [
    "Data Exploration Techniques"
   ]
  },
  {
   "cell_type": "code",
   "execution_count": null,
   "id": "f1c1f181",
   "metadata": {},
   "outputs": [],
   "source": [
    "#Dimensionality Check\n",
    "df.shape\n",
    "#Type of Dataset\n",
    "type (df)\n",
    "#Type of Dataset column\n",
    "df['column'].dtype\n",
    "#Identifying Unique Elements\n",
    "df['column'].unique()\n",
    "#Value Extraction\n",
    "df['column'].values()"
   ]
  },
  {
   "cell_type": "code",
   "execution_count": null,
   "id": "d07ae972",
   "metadata": {},
   "outputs": [],
   "source": []
  }
 ],
 "metadata": {
  "kernelspec": {
   "display_name": "Python 3 (ipykernel)",
   "language": "python",
   "name": "python3"
  },
  "language_info": {
   "codemirror_mode": {
    "name": "ipython",
    "version": 3
   },
   "file_extension": ".py",
   "mimetype": "text/x-python",
   "name": "python",
   "nbconvert_exporter": "python",
   "pygments_lexer": "ipython3",
   "version": "3.9.12"
  }
 },
 "nbformat": 4,
 "nbformat_minor": 5
}

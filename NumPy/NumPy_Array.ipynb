{
 "cells": [
  {
   "cell_type": "code",
   "execution_count": 11,
   "id": "a8190fc5",
   "metadata": {},
   "outputs": [],
   "source": [
    "#import Numpy library\n",
    "import numpy as np"
   ]
  },
  {
   "cell_type": "code",
   "execution_count": 12,
   "id": "eb370f58",
   "metadata": {},
   "outputs": [],
   "source": [
    "#first Numpy array\n",
    "numpy_array = np.array([1,2,3,4])"
   ]
  },
  {
   "cell_type": "code",
   "execution_count": 15,
   "id": "34da72b8",
   "metadata": {},
   "outputs": [
    {
     "name": "stdout",
     "output_type": "stream",
     "text": [
      "[1 2 3 4]\n"
     ]
    }
   ],
   "source": [
    "print (numpy_array)"
   ]
  },
  {
   "cell_type": "code",
   "execution_count": 16,
   "id": "2275f977",
   "metadata": {},
   "outputs": [
    {
     "data": {
      "text/plain": [
       "array([[0., 0., 0.],\n",
       "       [0., 0., 0.],\n",
       "       [0., 0., 0.]])"
      ]
     },
     "execution_count": 16,
     "metadata": {},
     "output_type": "execute_result"
    }
   ],
   "source": [
    "#array with zeros\n",
    "array_zeros = np.zeros((3,3))\n",
    "array_zeros"
   ]
  },
  {
   "cell_type": "code",
   "execution_count": 17,
   "id": "40690335",
   "metadata": {},
   "outputs": [
    {
     "data": {
      "text/plain": [
       "array([[1., 1., 1.],\n",
       "       [1., 1., 1.],\n",
       "       [1., 1., 1.]])"
      ]
     },
     "execution_count": 17,
     "metadata": {},
     "output_type": "execute_result"
    }
   ],
   "source": [
    "#array with ones\n",
    "array_ones = np.ones((3,3))\n",
    "array_ones"
   ]
  },
  {
   "cell_type": "code",
   "execution_count": 21,
   "id": "41347738",
   "metadata": {},
   "outputs": [
    {
     "data": {
      "text/plain": [
       "array([[0., 0., 0.],\n",
       "       [0., 0., 0.]])"
      ]
     },
     "execution_count": 21,
     "metadata": {},
     "output_type": "execute_result"
    }
   ],
   "source": [
    "#empty array\n",
    "empty_array = np.empty((2,3))\n",
    "empty_array"
   ]
  },
  {
   "cell_type": "code",
   "execution_count": 26,
   "id": "3ba29b8c",
   "metadata": {},
   "outputs": [
    {
     "name": "stdout",
     "output_type": "stream",
     "text": [
      "[ 0  1  2  3  4  5  6  7  8  9 10 11]\n"
     ]
    }
   ],
   "source": [
    "#array with arange method\n",
    "np_arange = np.arange(12)\n",
    "print (np_arange)"
   ]
  },
  {
   "cell_type": "code",
   "execution_count": 28,
   "id": "edcdcfe4",
   "metadata": {
    "scrolled": true
   },
   "outputs": [
    {
     "data": {
      "text/plain": [
       "array([[ 0,  1,  2,  3],\n",
       "       [ 4,  5,  6,  7],\n",
       "       [ 8,  9, 10, 11]])"
      ]
     },
     "execution_count": 28,
     "metadata": {},
     "output_type": "execute_result"
    }
   ],
   "source": [
    "#reshape method to change/create array -> on previous array\n",
    "np_arange.reshape(3,4)"
   ]
  },
  {
   "cell_type": "code",
   "execution_count": 30,
   "id": "d3249e98",
   "metadata": {},
   "outputs": [
    {
     "name": "stdout",
     "output_type": "stream",
     "text": [
      "[1.   2.25 3.5  4.75 6.  ]\n"
     ]
    }
   ],
   "source": [
    "#linspace for linearly (equal) space data elements\n",
    "np_linspce = np.linspace(1,6,5)\n",
    "print(np_linspce)"
   ]
  },
  {
   "cell_type": "code",
   "execution_count": 31,
   "id": "569be318",
   "metadata": {},
   "outputs": [
    {
     "name": "stdout",
     "output_type": "stream",
     "text": [
      "[ 0  1  2  3  4  5  6  7  8  9 10 11 12 13 14]\n"
     ]
    }
   ],
   "source": [
    "#1D array\n",
    "oneD_array = np.arange(15)\n",
    "print(oneD_array)"
   ]
  },
  {
   "cell_type": "code",
   "execution_count": 34,
   "id": "b4e74fa4",
   "metadata": {},
   "outputs": [
    {
     "name": "stdout",
     "output_type": "stream",
     "text": [
      "[[ 0  1  2  3  4]\n",
      " [ 5  6  7  8  9]\n",
      " [10 11 12 13 14]]\n"
     ]
    }
   ],
   "source": [
    "#2D array\n",
    "twoD_array = oneD_array.reshape(3,5)\n",
    "print(twoD_array)"
   ]
  },
  {
   "cell_type": "code",
   "execution_count": 37,
   "id": "c948f452",
   "metadata": {},
   "outputs": [
    {
     "name": "stdout",
     "output_type": "stream",
     "text": [
      "[[[ 0  1  2]\n",
      "  [ 3  4  5]\n",
      "  [ 6  7  8]]\n",
      "\n",
      " [[ 9 10 11]\n",
      "  [12 13 14]\n",
      "  [15 16 17]]\n",
      "\n",
      " [[18 19 20]\n",
      "  [21 22 23]\n",
      "  [24 25 26]]]\n"
     ]
    }
   ],
   "source": [
    "#3D array\n",
    "threeD_array = np.arange(27).reshape(3,3,3)\n",
    "print(threeD_array)"
   ]
  }
 ],
 "metadata": {
  "kernelspec": {
   "display_name": "Python 3 (ipykernel)",
   "language": "python",
   "name": "python3"
  },
  "language_info": {
   "codemirror_mode": {
    "name": "ipython",
    "version": 3
   },
   "file_extension": ".py",
   "mimetype": "text/x-python",
   "name": "python",
   "nbconvert_exporter": "python",
   "pygments_lexer": "ipython3",
   "version": "3.9.12"
  }
 },
 "nbformat": 4,
 "nbformat_minor": 5
}

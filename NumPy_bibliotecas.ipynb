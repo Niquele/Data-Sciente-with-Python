{
 "cells": [
  {
   "cell_type": "markdown",
   "id": "2897a0e6",
   "metadata": {},
   "source": [
    "# Importando NumPy"
   ]
  },
  {
   "cell_type": "code",
   "execution_count": null,
   "id": "49f90583",
   "metadata": {},
   "outputs": [],
   "source": [
    "#importando toda library\n",
    "import math\n",
    "#importando com um prefixo \n",
    "import math as mt\n",
    "#importando somente um metodo \n",
    "from math import sqrt, sin"
   ]
  },
  {
   "cell_type": "code",
   "execution_count": 1,
   "id": "397fb39c",
   "metadata": {},
   "outputs": [
    {
     "name": "stdout",
     "output_type": "stream",
     "text": [
      "4.0\n",
      "0.0015926529164868282\n"
     ]
    }
   ],
   "source": [
    "#testanto\n",
    "from math import sqrt, sin\n",
    "a = 16\n",
    "b = 3.14\n",
    "print(sqrt(a))\n",
    "print(sin(b))"
   ]
  },
  {
   "cell_type": "markdown",
   "id": "0db6ac83",
   "metadata": {},
   "source": [
    "# NumPy"
   ]
  },
  {
   "cell_type": "code",
   "execution_count": 2,
   "id": "10fec3a5",
   "metadata": {},
   "outputs": [],
   "source": [
    "import numpy as np"
   ]
  },
  {
   "cell_type": "code",
   "execution_count": 4,
   "id": "11d21ed6",
   "metadata": {},
   "outputs": [
    {
     "data": {
      "text/plain": [
       "array([2., 4., 8.])"
      ]
     },
     "execution_count": 4,
     "metadata": {},
     "output_type": "execute_result"
    }
   ],
   "source": [
    "#sqrt dá a raiz quadrada\n",
    "np_sqrt = np.sqrt ([4,16,64])\n",
    "np_sqrt"
   ]
  },
  {
   "cell_type": "code",
   "execution_count": 9,
   "id": "c7c51c31",
   "metadata": {},
   "outputs": [
    {
     "data": {
      "text/plain": [
       "1.0"
      ]
     },
     "execution_count": 9,
     "metadata": {},
     "output_type": "execute_result"
    }
   ],
   "source": [
    "#cos define o coseno\n",
    "np.cos(0)"
   ]
  },
  {
   "cell_type": "code",
   "execution_count": 10,
   "id": "81730bb3",
   "metadata": {},
   "outputs": [
    {
     "data": {
      "text/plain": [
       "0.7071067811865476"
      ]
     },
     "execution_count": 10,
     "metadata": {},
     "output_type": "execute_result"
    }
   ],
   "source": [
    "#sin define o seno\n",
    "from numpy import pi #importando pi \n",
    "np.sin(pi/4)"
   ]
  },
  {
   "cell_type": "code",
   "execution_count": 11,
   "id": "1291e596",
   "metadata": {},
   "outputs": [
    {
     "data": {
      "text/plain": [
       "array([1., 2., 1., 5.])"
      ]
     },
     "execution_count": 11,
     "metadata": {},
     "output_type": "execute_result"
    }
   ],
   "source": [
    "#Exp devolve exponencial de cada elemento\n",
    "np.floor([1.3,2.5,1,5])"
   ]
  },
  {
   "cell_type": "code",
   "execution_count": 12,
   "id": "f227ec23",
   "metadata": {},
   "outputs": [
    {
     "data": {
      "text/plain": [
       "array([  2.71828183,   7.3890561 , 148.4131591 ])"
      ]
     },
     "execution_count": 12,
     "metadata": {},
     "output_type": "execute_result"
    }
   ],
   "source": [
    "#Floor devolve maior valor inteiro do array\n",
    "np.exp([1,2,5])"
   ]
  },
  {
   "cell_type": "markdown",
   "id": "30ecd5db",
   "metadata": {},
   "source": [
    "Shape Manipulation"
   ]
  },
  {
   "cell_type": "code",
   "execution_count": 14,
   "id": "405c4736",
   "metadata": {},
   "outputs": [],
   "source": [
    "#criando a array\n",
    "exemplo = np.array([[10,15,17,26,13,19],[12,11,21,24,14,23]])"
   ]
  },
  {
   "cell_type": "code",
   "execution_count": 15,
   "id": "5ee6e770",
   "metadata": {},
   "outputs": [
    {
     "data": {
      "text/plain": [
       "array([10, 15, 17, 26, 13, 19, 12, 11, 21, 24, 14, 23])"
      ]
     },
     "execution_count": 15,
     "metadata": {},
     "output_type": "execute_result"
    }
   ],
   "source": [
    "#Flattens\n",
    "exemplo.ravel()"
   ]
  },
  {
   "cell_type": "code",
   "execution_count": 21,
   "id": "720a9dfd",
   "metadata": {
    "scrolled": true
   },
   "outputs": [
    {
     "data": {
      "text/plain": [
       "array([[10, 15, 17, 26],\n",
       "       [13, 19, 12, 11],\n",
       "       [21, 24, 14, 23]])"
      ]
     },
     "execution_count": 21,
     "metadata": {},
     "output_type": "execute_result"
    }
   ],
   "source": [
    "#Reshape em linhas por colunas -> 3 Linhas e 4 Colunas\n",
    "exemplo.reshape(3,4)"
   ]
  },
  {
   "cell_type": "code",
   "execution_count": 24,
   "id": "35b945ab",
   "metadata": {},
   "outputs": [
    {
     "data": {
      "text/plain": [
       "array([[10, 15, 17, 26, 13, 19],\n",
       "       [12, 11, 21, 24, 14, 23]])"
      ]
     },
     "execution_count": 24,
     "metadata": {},
     "output_type": "execute_result"
    }
   ],
   "source": [
    "#Resize dá de volta o tamanho original -> 2 por 6\n",
    "exemplo.resize(2,6)\n",
    "exemplo"
   ]
  },
  {
   "cell_type": "code",
   "execution_count": 48,
   "id": "3fe5695a",
   "metadata": {},
   "outputs": [
    {
     "ename": "TypeError",
     "evalue": "'tuple' object is not callable",
     "output_type": "error",
     "traceback": [
      "\u001b[1;31m------------------------------------------------------------------------\u001b[0m",
      "\u001b[1;31mTypeError\u001b[0m                              Traceback (most recent call last)",
      "Input \u001b[1;32mIn [48]\u001b[0m, in \u001b[0;36m<cell line: 4>\u001b[1;34m()\u001b[0m\n\u001b[0;32m      2\u001b[0m exemplo1 \u001b[38;5;241m=\u001b[39m np\u001b[38;5;241m.\u001b[39marray([\u001b[38;5;241m10\u001b[39m,\u001b[38;5;241m15\u001b[39m,\u001b[38;5;241m17\u001b[39m,\u001b[38;5;241m26\u001b[39m,\u001b[38;5;241m13\u001b[39m,\u001b[38;5;241m19\u001b[39m])\n\u001b[0;32m      3\u001b[0m exemplo2 \u001b[38;5;241m=\u001b[39m np\u001b[38;5;241m.\u001b[39marray([\u001b[38;5;241m12\u001b[39m,\u001b[38;5;241m11\u001b[39m,\u001b[38;5;241m21\u001b[39m,\u001b[38;5;241m24\u001b[39m,\u001b[38;5;241m14\u001b[39m,\u001b[38;5;241m23\u001b[39m])\n\u001b[1;32m----> 4\u001b[0m \u001b[43mnp\u001b[49m\u001b[38;5;241;43m.\u001b[39;49m\u001b[43mhstack\u001b[49m\u001b[43m(\u001b[49m\u001b[43m(\u001b[49m\u001b[43mexemplo1\u001b[49m\u001b[43m,\u001b[49m\u001b[43mexemplo2\u001b[49m\u001b[43m)\u001b[49m\u001b[43m)\u001b[49m\n",
      "\u001b[1;31mTypeError\u001b[0m: 'tuple' object is not callable"
     ]
    }
   ],
   "source": [
    "#Stack juntam duas arrays\n",
    "exemplo1 = np.array([10,15,17,26,13,19])\n",
    "exemplo2 = np.array([12,11,21,24,14,23])\n",
    "np.hstack((exemplo1,exemplo2))"
   ]
  },
  {
   "cell_type": "code",
   "execution_count": 47,
   "id": "86647c7d",
   "metadata": {},
   "outputs": [
    {
     "data": {
      "text/plain": [
       "[array([[10, 15, 17],\n",
       "        [12, 11, 21]]),\n",
       " array([[26, 13, 19],\n",
       "        [24, 14, 23]])]"
      ]
     },
     "execution_count": 47,
     "metadata": {},
     "output_type": "execute_result"
    }
   ],
   "source": [
    "#Split separa a array em x\n",
    "np.hsplit(exemplo,2)"
   ]
  }
 ],
 "metadata": {
  "kernelspec": {
   "display_name": "Python 3 (ipykernel)",
   "language": "python",
   "name": "python3"
  },
  "language_info": {
   "codemirror_mode": {
    "name": "ipython",
    "version": 3
   },
   "file_extension": ".py",
   "mimetype": "text/x-python",
   "name": "python",
   "nbconvert_exporter": "python",
   "pygments_lexer": "ipython3",
   "version": "3.9.12"
  }
 },
 "nbformat": 4,
 "nbformat_minor": 5
}

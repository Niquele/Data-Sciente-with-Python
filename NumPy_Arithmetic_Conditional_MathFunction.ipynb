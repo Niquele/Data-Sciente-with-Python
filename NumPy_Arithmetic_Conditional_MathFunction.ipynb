{
 "cells": [
  {
   "cell_type": "markdown",
   "id": "dccc1cda",
   "metadata": {},
   "source": [
    "Arithmetic"
   ]
  },
  {
   "cell_type": "code",
   "execution_count": 2,
   "id": "153f0b61",
   "metadata": {},
   "outputs": [],
   "source": [
    "import numpy as np"
   ]
  },
  {
   "cell_type": "code",
   "execution_count": 3,
   "id": "722b0906",
   "metadata": {},
   "outputs": [],
   "source": [
    "A = np.array([[1,2,1],[2,2,3]])\n",
    "B = np.array([3,4,5])"
   ]
  },
  {
   "cell_type": "code",
   "execution_count": 4,
   "id": "738b6960",
   "metadata": {},
   "outputs": [
    {
     "data": {
      "text/plain": [
       "array([[4, 6, 6],\n",
       "       [5, 6, 8]])"
      ]
     },
     "execution_count": 4,
     "metadata": {},
     "output_type": "execute_result"
    }
   ],
   "source": [
    "#Soma\n",
    "np.add(A,B)"
   ]
  },
  {
   "cell_type": "code",
   "execution_count": 5,
   "id": "b9cdf9c1",
   "metadata": {},
   "outputs": [
    {
     "data": {
      "text/plain": [
       "array([[2, 2, 4],\n",
       "       [1, 2, 2]])"
      ]
     },
     "execution_count": 5,
     "metadata": {},
     "output_type": "execute_result"
    }
   ],
   "source": [
    "np.subtract(B,A)"
   ]
  },
  {
   "cell_type": "code",
   "execution_count": 6,
   "id": "4eaff33a",
   "metadata": {},
   "outputs": [
    {
     "data": {
      "text/plain": [
       "array([[ 3,  8,  5],\n",
       "       [ 6,  8, 15]])"
      ]
     },
     "execution_count": 6,
     "metadata": {},
     "output_type": "execute_result"
    }
   ],
   "source": [
    "np.multiply(A,B)"
   ]
  },
  {
   "cell_type": "code",
   "execution_count": 7,
   "id": "6865b296",
   "metadata": {},
   "outputs": [
    {
     "data": {
      "text/plain": [
       "array([[0.33333333, 0.5       , 0.2       ],\n",
       "       [0.66666667, 0.5       , 0.6       ]])"
      ]
     },
     "execution_count": 7,
     "metadata": {},
     "output_type": "execute_result"
    }
   ],
   "source": [
    "np.divide(A,B)"
   ]
  },
  {
   "cell_type": "markdown",
   "id": "950a9ed3",
   "metadata": {},
   "source": [
    "Conditional"
   ]
  },
  {
   "cell_type": "code",
   "execution_count": 8,
   "id": "94e9e2b7",
   "metadata": {},
   "outputs": [],
   "source": [
    "x = np.array([i for i in range(10)])"
   ]
  },
  {
   "cell_type": "code",
   "execution_count": 9,
   "id": "77171a6f",
   "metadata": {},
   "outputs": [
    {
     "data": {
      "text/plain": [
       "array([0, 1, 2, 3, 4, 5, 6, 7, 8, 9])"
      ]
     },
     "execution_count": 9,
     "metadata": {},
     "output_type": "execute_result"
    }
   ],
   "source": [
    "x"
   ]
  },
  {
   "cell_type": "code",
   "execution_count": 10,
   "id": "2eee291b",
   "metadata": {},
   "outputs": [
    {
     "data": {
      "text/plain": [
       "array(['Even', 'Odd', 'Even', 'Odd', 'Even', 'Odd', 'Even', 'Odd', 'Even',\n",
       "       'Odd'], dtype='<U4')"
      ]
     },
     "execution_count": 10,
     "metadata": {},
     "output_type": "execute_result"
    }
   ],
   "source": [
    "np.where(x%2==0, 'Even', 'Odd')"
   ]
  },
  {
   "cell_type": "code",
   "execution_count": 11,
   "id": "f4f75c18",
   "metadata": {},
   "outputs": [],
   "source": [
    "condlist = [x<5,x>5]\n",
    "choicelist = [x**2,x**3]"
   ]
  },
  {
   "cell_type": "code",
   "execution_count": 12,
   "id": "8b6135b6",
   "metadata": {},
   "outputs": [
    {
     "data": {
      "text/plain": [
       "array([  0,   1,   4,   9,  16,   5, 216, 343, 512, 729])"
      ]
     },
     "execution_count": 12,
     "metadata": {},
     "output_type": "execute_result"
    }
   ],
   "source": [
    "np.select(condlist,choicelist,default=x)"
   ]
  },
  {
   "cell_type": "markdown",
   "id": "bf41bab1",
   "metadata": {},
   "source": [
    "Math Functions"
   ]
  },
  {
   "cell_type": "code",
   "execution_count": 14,
   "id": "d0f6fcbb",
   "metadata": {},
   "outputs": [
    {
     "data": {
      "text/plain": [
       "array([[ 4,  3,  2],\n",
       "       [10,  1,  0],\n",
       "       [ 5,  8, 24]])"
      ]
     },
     "execution_count": 14,
     "metadata": {},
     "output_type": "execute_result"
    }
   ],
   "source": [
    "arrayfunc = np.array([[4,3,2],[10,1,0],[5,8,24]])\n",
    "arrayfunc"
   ]
  },
  {
   "cell_type": "code",
   "execution_count": 16,
   "id": "4bc04bce",
   "metadata": {},
   "outputs": [
    {
     "data": {
      "text/plain": [
       "0"
      ]
     },
     "execution_count": 16,
     "metadata": {},
     "output_type": "execute_result"
    }
   ],
   "source": [
    "#metodo amin para achar valor minimo do array\n",
    "np.amin(arrayfunc)"
   ]
  },
  {
   "cell_type": "code",
   "execution_count": 18,
   "id": "b38e9617",
   "metadata": {},
   "outputs": [
    {
     "data": {
      "text/plain": [
       "array([4, 1, 0])"
      ]
     },
     "execution_count": 18,
     "metadata": {},
     "output_type": "execute_result"
    }
   ],
   "source": [
    "#tambem é possivel ver valores minimos informando o axis -> 0 = vertical 1 = horizontal\n",
    "np.amin(arrayfunc,axis=0)"
   ]
  },
  {
   "cell_type": "code",
   "execution_count": 19,
   "id": "a4ad0e87",
   "metadata": {},
   "outputs": [
    {
     "data": {
      "text/plain": [
       "array([2, 0, 5])"
      ]
     },
     "execution_count": 19,
     "metadata": {},
     "output_type": "execute_result"
    }
   ],
   "source": [
    "np.amin(arrayfunc,axis=1)"
   ]
  },
  {
   "cell_type": "code",
   "execution_count": 20,
   "id": "310beb96",
   "metadata": {},
   "outputs": [
    {
     "data": {
      "text/plain": [
       "24"
      ]
     },
     "execution_count": 20,
     "metadata": {},
     "output_type": "execute_result"
    }
   ],
   "source": [
    "#valor maximo de uma array\n",
    "np.max(arrayfunc) #tambem pode ser adicionado o axis aqui"
   ]
  },
  {
   "cell_type": "code",
   "execution_count": 21,
   "id": "eda52b7b",
   "metadata": {},
   "outputs": [
    {
     "data": {
      "text/plain": [
       "4.0"
      ]
     },
     "execution_count": 21,
     "metadata": {},
     "output_type": "execute_result"
    }
   ],
   "source": [
    "np.median(arrayfunc) #media"
   ]
  },
  {
   "cell_type": "code",
   "execution_count": 22,
   "id": "c3a4db67",
   "metadata": {},
   "outputs": [
    {
     "data": {
      "text/plain": [
       "6.333333333333333"
      ]
     },
     "execution_count": 22,
     "metadata": {},
     "output_type": "execute_result"
    }
   ],
   "source": [
    "np.mean(arrayfunc) #mediana"
   ]
  },
  {
   "cell_type": "code",
   "execution_count": 24,
   "id": "0b069930",
   "metadata": {},
   "outputs": [
    {
     "data": {
      "text/plain": [
       "2.08"
      ]
     },
     "execution_count": 24,
     "metadata": {},
     "output_type": "execute_result"
    }
   ],
   "source": [
    "np.percentile(arrayfunc,26) #define a % de toda a array"
   ]
  },
  {
   "cell_type": "code",
   "execution_count": 26,
   "id": "7ceb96d0",
   "metadata": {},
   "outputs": [],
   "source": [
    "#criando uma array de degrees para calcular o seno\n",
    "degres = np.array([0,30,45,60,90])"
   ]
  },
  {
   "cell_type": "code",
   "execution_count": 27,
   "id": "7dce98f3",
   "metadata": {},
   "outputs": [
    {
     "data": {
      "text/plain": [
       "array([0.        , 0.80901699, 0.98768834, 0.95105652, 0.30901699])"
      ]
     },
     "execution_count": 27,
     "metadata": {},
     "output_type": "execute_result"
    }
   ],
   "source": [
    "np.sin(degres*np.pi/180) #calc do seno"
   ]
  },
  {
   "cell_type": "code",
   "execution_count": 28,
   "id": "668415d4",
   "metadata": {},
   "outputs": [
    {
     "data": {
      "text/plain": [
       "array([1.00000000e+00, 8.66025404e-01, 7.07106781e-01, 5.00000000e-01,\n",
       "       6.12323400e-17])"
      ]
     },
     "execution_count": 28,
     "metadata": {},
     "output_type": "execute_result"
    }
   ],
   "source": [
    "np.cos(degres*np.pi/180) #coseno"
   ]
  },
  {
   "cell_type": "code",
   "execution_count": null,
   "id": "4a813b78",
   "metadata": {},
   "outputs": [],
   "source": [
    "np.tan(degres*np.pi/180) #tangente"
   ]
  },
  {
   "cell_type": "code",
   "execution_count": null,
   "id": "03d145c5",
   "metadata": {},
   "outputs": [],
   "source": []
  }
 ],
 "metadata": {
  "kernelspec": {
   "display_name": "Python 3 (ipykernel)",
   "language": "python",
   "name": "python3"
  },
  "language_info": {
   "codemirror_mode": {
    "name": "ipython",
    "version": 3
   },
   "file_extension": ".py",
   "mimetype": "text/x-python",
   "name": "python",
   "nbconvert_exporter": "python",
   "pygments_lexer": "ipython3",
   "version": "3.9.12"
  }
 },
 "nbformat": 4,
 "nbformat_minor": 5
}

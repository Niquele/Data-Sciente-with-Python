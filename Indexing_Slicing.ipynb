{
 "cells": [
  {
   "cell_type": "markdown",
   "id": "e074bfe7",
   "metadata": {},
   "source": [
    "Indexing"
   ]
  },
  {
   "cell_type": "code",
   "execution_count": 1,
   "id": "ccd33259",
   "metadata": {},
   "outputs": [],
   "source": [
    "import numpy as np"
   ]
  },
  {
   "cell_type": "code",
   "execution_count": 11,
   "id": "1361beb5",
   "metadata": {},
   "outputs": [],
   "source": [
    "array1d = np.array([1,2,3,4])\n",
    "array2d = np.array([[1,2,3,4],[1,2,3,4]])\n",
    "array3d = np.array([[[1,2,3],[1,2,3]],[[1,2,3],[1,2,5]]])\n"
   ]
  },
  {
   "cell_type": "code",
   "execution_count": 8,
   "id": "785d3f39",
   "metadata": {},
   "outputs": [
    {
     "data": {
      "text/plain": [
       "1"
      ]
     },
     "execution_count": 8,
     "metadata": {},
     "output_type": "execute_result"
    }
   ],
   "source": [
    "array1d[0]"
   ]
  },
  {
   "cell_type": "code",
   "execution_count": 9,
   "id": "40c081e7",
   "metadata": {},
   "outputs": [
    {
     "data": {
      "text/plain": [
       "2"
      ]
     },
     "execution_count": 9,
     "metadata": {},
     "output_type": "execute_result"
    }
   ],
   "source": [
    "array2d[0,1]"
   ]
  },
  {
   "cell_type": "code",
   "execution_count": 13,
   "id": "4cfccd50",
   "metadata": {},
   "outputs": [
    {
     "data": {
      "text/plain": [
       "2"
      ]
     },
     "execution_count": 13,
     "metadata": {},
     "output_type": "execute_result"
    }
   ],
   "source": [
    "array3d[0,0,1]"
   ]
  },
  {
   "cell_type": "markdown",
   "id": "841a5a33",
   "metadata": {},
   "source": [
    "Slicing"
   ]
  },
  {
   "cell_type": "code",
   "execution_count": 16,
   "id": "a48998b3",
   "metadata": {},
   "outputs": [
    {
     "data": {
      "text/plain": [
       "array([2, 3, 4])"
      ]
     },
     "execution_count": 16,
     "metadata": {},
     "output_type": "execute_result"
    }
   ],
   "source": [
    "array1d[1:]"
   ]
  },
  {
   "cell_type": "code",
   "execution_count": 19,
   "id": "f4b10b36",
   "metadata": {},
   "outputs": [
    {
     "data": {
      "text/plain": [
       "array([2])"
      ]
     },
     "execution_count": 19,
     "metadata": {},
     "output_type": "execute_result"
    }
   ],
   "source": [
    "array1d[1:2]"
   ]
  },
  {
   "cell_type": "code",
   "execution_count": 20,
   "id": "4184d69a",
   "metadata": {},
   "outputs": [
    {
     "data": {
      "text/plain": [
       "array([2, 3, 4])"
      ]
     },
     "execution_count": 20,
     "metadata": {},
     "output_type": "execute_result"
    }
   ],
   "source": [
    "array2d[1,1:]"
   ]
  },
  {
   "cell_type": "code",
   "execution_count": 22,
   "id": "83eda518",
   "metadata": {},
   "outputs": [
    {
     "data": {
      "text/plain": [
       "array([[1, 2, 3, 4]])"
      ]
     },
     "execution_count": 22,
     "metadata": {},
     "output_type": "execute_result"
    }
   ],
   "source": [
    "array2d[-2:-3:-1]"
   ]
  },
  {
   "cell_type": "code",
   "execution_count": 23,
   "id": "6ff5b6d4",
   "metadata": {},
   "outputs": [
    {
     "data": {
      "text/plain": [
       "array([2, 5])"
      ]
     },
     "execution_count": 23,
     "metadata": {},
     "output_type": "execute_result"
    }
   ],
   "source": [
    "array3d[1,1,1:]"
   ]
  }
 ],
 "metadata": {
  "kernelspec": {
   "display_name": "Python 3 (ipykernel)",
   "language": "python",
   "name": "python3"
  },
  "language_info": {
   "codemirror_mode": {
    "name": "ipython",
    "version": 3
   },
   "file_extension": ".py",
   "mimetype": "text/x-python",
   "name": "python",
   "nbconvert_exporter": "python",
   "pygments_lexer": "ipython3",
   "version": "3.9.12"
  }
 },
 "nbformat": 4,
 "nbformat_minor": 5
}
